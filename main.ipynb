{
 "cells": [
  {
   "cell_type": "code",
   "execution_count": 44,
   "metadata": {},
   "outputs": [
    {
     "name": "stdout",
     "output_type": "stream",
     "text": [
      "True\n"
     ]
    }
   ],
   "source": [
    "# ROLL NO : 22F-BSAI-40\n",
    "def wordPattern(pattern: str,s: str) -> bool:\n",
    "    #split string s into words\n",
    "    words = s.split() \n",
    "    if len(pattern) != len(words):\n",
    "        return False\n",
    "    # dictonaries to store mapping \n",
    "    patterntoword = {}\n",
    "    wordtopattern={}\n",
    "    for p,w in zip(pattern,words):\n",
    "        # check if pattern character is already mapped to a word\n",
    "        if p in patterntoword and patterntoword[p] != w:\n",
    "            return False\n",
    "        # check if word character is already mapped to a pattern\n",
    "        if w in wordtopattern and wordtopattern[w] != p:\n",
    "            return False\n",
    "    # established the mapping between the pattern character and the word  \n",
    "        patterntoword[p]=w\n",
    "    # establish the reverse mapping between the word and the pattern character\n",
    "        wordtopattern[w]=p\n",
    "\n",
    "    return True\n",
    "\n",
    "# example 1\n",
    "pattern = \"abba\"\n",
    "s = \"dog cat cat dog\"\n",
    "result = wordPattern(pattern ,s)\n",
    "print(result)\n",
    "\n",
    "\n"
   ]
  },
  {
   "cell_type": "code",
   "execution_count": 43,
   "metadata": {},
   "outputs": [
    {
     "name": "stdout",
     "output_type": "stream",
     "text": [
      "False\n"
     ]
    }
   ],
   "source": [
    "# example 2\n",
    "pattern2 = \"abba\"\n",
    "s2 = \"dog cat cat fish\"\n",
    "result2= wordPattern(pattern2,s2)\n",
    "print(result2)"
   ]
  },
  {
   "cell_type": "code",
   "execution_count": 42,
   "metadata": {},
   "outputs": [
    {
     "name": "stdout",
     "output_type": "stream",
     "text": [
      "False\n"
     ]
    }
   ],
   "source": [
    "# example 3\n",
    "pattern3 = \"aaaa\"\n",
    "s3 = \"dog cat cat dog\"\n",
    "result3 = wordPattern(pattern3,s3)\n",
    "print(result3)"
   ]
  }
 ],
 "metadata": {
  "kernelspec": {
   "display_name": "base",
   "language": "python",
   "name": "python3"
  },
  "language_info": {
   "codemirror_mode": {
    "name": "ipython",
    "version": 3
   },
   "file_extension": ".py",
   "mimetype": "text/x-python",
   "name": "python",
   "nbconvert_exporter": "python",
   "pygments_lexer": "ipython3",
   "version": "3.12.7"
  }
 },
 "nbformat": 4,
 "nbformat_minor": 2
}
